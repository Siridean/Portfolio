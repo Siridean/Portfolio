{
  "cells": [
    {
      "cell_type": "markdown",
      "metadata": {
        "id": "jrI6q7RmWQam"
      },
      "source": [
        "<table align=\"center\">\n",
        "  <td align=\"center\"><a target=\"_blank\" href=\"http://introtodeeplearning.com\">\n",
        "        <img src=\"https://i.ibb.co/Jr88sn2/mit.png\" style=\"padding-bottom:5px;\" />\n",
        "      Visit MIT Deep Learning</a></td>\n",
        "  <td align=\"center\"><a target=\"_blank\" href=\"https://colab.research.google.com/github/aamini/introtodeeplearning/blob/master/lab3/RL.ipynb\">\n",
        "        <img src=\"https://i.ibb.co/2P3SLwK/colab.png\"  style=\"padding-bottom:5px;\" />Run in Google Colab</a></td>\n",
        "  <td align=\"center\"><a target=\"_blank\" href=\"https://github.com/aamini/introtodeeplearning/blob/master/lab3/RL.ipynb\">\n",
        "        <img src=\"https://i.ibb.co/xfJbPmL/github.png\"  height=\"70px\" style=\"padding-bottom:5px;\"  />View Source on GitHub</a></td>\n",
        "</table>\n",
        "\n",
        "# Copyright Information"
      ]
    },
    {
      "cell_type": "code",
      "execution_count": null,
      "metadata": {
        "id": "wkd375upWYok"
      },
      "outputs": [],
      "source": [
        "# Copyright 2022 MIT 6.S191 Introduction to Deep Learning. All Rights Reserved.\n",
        "# \n",
        "# Licensed under the MIT License. You may not use this file except in compliance\n",
        "# with the License. Use and/or modification of this code outside of 6.S191 must\n",
        "# reference:\n",
        "#\n",
        "# © MIT 6.S191: Introduction to Deep Learning\n",
        "# http://introtodeeplearning.com\n",
        "#"
      ]
    },
    {
      "cell_type": "markdown",
      "metadata": {
        "id": "WoXYKhfZMHiw"
      },
      "source": [
        "# Laboratory 3: Reinforcement Learning\n",
        "\n",
        "Reinforcement learning (RL) is a subset of machine learning which poses learning problems as interactions between agents and environments. It often assumes agents have no prior knowledge of a world, so they must learn to navigate environments by optimizing a reward function. Within an environment, an agent can take certain actions and receive feedback, in the form of positive or negative rewards, with respect to their decision. As such, an agent's feedback loop is somewhat akin to the idea of \"trial and error\", or the manner in which a child might learn to distinguish between \"good\" and \"bad\" actions.\n",
        "\n",
        "In practical terms, our RL agent will interact with the environment by taking an action at each timestep, receiving a corresponding reward, and updating its state according to what it has \"learned\".  \n",
        "\n",
        "![alt text](https://www.kdnuggets.com/images/reinforcement-learning-fig1-700.jpg)\n",
        "\n",
        "While the ultimate goal of reinforcement learning is to teach agents to act in the real, physical world, simulated environments -- like games and simulation engines -- provide a convenient proving ground for developing RL algorithms and agents.\n",
        "\n",
        "In previous labs, we have explored both supervised (with LSTMs, CNNs) and unsupervised / semi-supervised (with VAEs) learning tasks. Reinforcement learning is fundamentally different, in that we are training a deep learning algorithm to govern the actions of our RL agent, that is trying, within its environment, to find the optimal way to achieve a goal. The goal of training an RL agent is to determine the best next step to take to earn the greatest final payoff or return. In this lab, we focus on building a reinforcement learning algorithm to master two different environments with varying complexity. \n",
        "\n",
        "1.   **Cartpole**:   Balance a pole, protruding from a cart, in an upright position by only moving the base left or right. Environment with a low-dimensional observation space.\n",
        "2.   [**Driving in VISTA**](https://www.mit.edu/~amini/pubs/pdf/learning-in-simulation-vista.pdf): Learn a driving control policy for an autonomous vehicle, end-to-end from raw pixel inputs and entirely in the data-driven simulation environment of VISTA. Environment with a high-dimensional observation space -- learning directly from raw pixels.\n",
        "\n",
        "Let's get started! First we'll import TensorFlow, the course package, and some dependencies.\n"
      ]
    },
    {
      "cell_type": "code",
      "execution_count": null,
      "metadata": {
        "id": "KR9QHuleJ9Bh",
        "colab": {
          "base_uri": "https://localhost:8080/"
        },
        "outputId": "85f0e417-e14a-4bda-e455-1f71b91c5a16"
      },
      "outputs": [
        {
          "output_type": "stream",
          "name": "stdout",
          "text": [
            "Installing MIT deep learning package... Done\n"
          ]
        }
      ],
      "source": [
        "# Import Tensorflow 2.0\n",
        "%tensorflow_version 2.x\n",
        "import tensorflow as tf\n",
        "\n",
        "gpus = tf.config.experimental.list_physical_devices('GPU')\n",
        "if gpus:\n",
        "    for gpu in gpus:\n",
        "        tf.config.experimental.set_memory_growth(gpu, True)\n",
        "\n",
        "# Download and import the MIT 6.S191 package\n",
        "!printf \"Installing MIT deep learning package... \"\n",
        "!pip install --upgrade git+https://github.com/aamini/introtodeeplearning.git &> /dev/null\n",
        "!echo \"Done\""
      ]
    },
    {
      "cell_type": "code",
      "execution_count": null,
      "metadata": {
        "id": "EvdePP-VyVWp"
      },
      "outputs": [],
      "source": [
        "#Install some dependencies for visualizing the agents\n",
        "!apt-get install -y xvfb python-opengl x11-utils &> /dev/null\n",
        "!pip install gym pyvirtualdisplay scikit-video ffio pyrender &> /dev/null\n",
        "!pip install tensorflow_probability==0.12.0 &> /dev/null\n",
        "import os\n",
        "os.environ['PYOPENGL_PLATFORM'] = 'egl'\n",
        "\n",
        "import numpy as np\n",
        "import matplotlib, cv2\n",
        "import matplotlib.pyplot as plt\n",
        "import base64, io, os, time, gym\n",
        "import IPython, functools\n",
        "import time\n",
        "from tqdm import tqdm\n",
        "import tensorflow_probability as tfp\n",
        "\n",
        "import mitdeeplearning as mdl"
      ]
    },
    {
      "cell_type": "markdown",
      "metadata": {
        "id": "zmrHSiXKTXTY"
      },
      "source": [
        "Before we dive in, let's take a step back and outline our approach, which is generally applicable to reinforcement learning problems in general:\n",
        "\n",
        "1. **Initialize our environment and our agent**: here we will describe the different observations and actions the agent can make in the environemnt.\n",
        "2. **Define our agent's memory**: this will enable the agent to remember its past actions, observations, and rewards.\n",
        "3. **Define a reward function**: describes the reward associated with an action or sequence of actions.\n",
        "4. **Define the learning algorithm**: this will be used to reinforce the agent's good behaviors and discourage bad behaviors.\n"
      ]
    },
    {
      "cell_type": "markdown",
      "metadata": {
        "id": "UT7YL8KBJIIc"
      },
      "source": [
        "# Part 1: Cartpole\n",
        "\n",
        "## 3.1 Define the Cartpole environment and agent\n",
        "\n",
        "### Environment \n",
        "\n",
        "In order to model the environment for the Cartpole task, we'll be using a toolkit developed by OpenAI called [OpenAI Gym](https://gym.openai.com/). It provides several pre-defined environments for training and testing reinforcement learning agents, including those for classic physics control tasks, Atari video games, and robotic simulations. To access the Cartpole environment, we can use `env = gym.make(\"CartPole-v0\")`, which we gained access to when we imported the `gym` package. We can instantiate different [environments](https://gym.openai.com/envs/#classic_control) by passing the enivronment name to the `make` function.\n",
        "\n",
        "One issue we might experience when developing RL algorithms is that many aspects of the learning process are inherently random: initializing game states, changes in the environment, and the agent's actions. As such, it can be helpful to set a initial \"seed\" for the environment to ensure some level of reproducibility. Much like you might use `numpy.random.seed`, we can call the comparable function in gym, `seed`, with our defined environment to ensure the environment's random variables are initialized the same each time."
      ]
    },
    {
      "cell_type": "code",
      "execution_count": null,
      "metadata": {
        "id": "quv9SC0iIYFm",
        "colab": {
          "base_uri": "https://localhost:8080/"
        },
        "outputId": "f80352d3-106b-4c7c-89d8-cf409ffd9f2b"
      },
      "outputs": [
        {
          "output_type": "execute_result",
          "data": {
            "text/plain": [
              "[1]"
            ]
          },
          "metadata": {},
          "execution_count": 3
        }
      ],
      "source": [
        "### Instantiate the Cartpole environment ###\n",
        "\n",
        "env = gym.make(\"CartPole-v1\")\n",
        "env.seed(1)"
      ]
    },
    {
      "cell_type": "markdown",
      "metadata": {
        "id": "mhEITUcKK455"
      },
      "source": [
        "In Cartpole, a pole is attached by an un-actuated joint to a cart, which moves along a frictionless track. The pole starts upright, and the goal is to prevent it from falling over. The system is controlled by applying a force of +1 or -1 to the cart. A reward of +1 is provided for every timestep that the pole remains upright. The episode ends when the pole is more than 15 degrees from vertical, or the cart moves more than 2.4 units from the center of the track. A visual summary of the cartpole environment is depicted below:\n",
        "\n",
        "<img width=\"400px\" src=\"https://danielpiedrahita.files.wordpress.com/2017/02/cart-pole.png\"></img>\n",
        "\n",
        "Given this setup for the environment and the objective of the game, we can think about: 1) what observations help define the environment's state; 2) what actions the agent can take. \n",
        "\n",
        "First, let's consider the observation space. In this Cartpole environment our observations are:\n",
        "\n",
        "1. Cart position\n",
        "2. Cart velocity\n",
        "3. Pole angle\n",
        "4. Pole rotation rate\n",
        "\n",
        "We can confirm the size of the space by querying the environment's observation space:\n"
      ]
    },
    {
      "cell_type": "code",
      "execution_count": null,
      "metadata": {
        "id": "UVJaEcbdIX82",
        "colab": {
          "base_uri": "https://localhost:8080/"
        },
        "outputId": "33519c5c-c820-46d5-8ae2-c23eea54d76b"
      },
      "outputs": [
        {
          "output_type": "stream",
          "name": "stdout",
          "text": [
            "Environment has observation space = Box(-3.4028234663852886e+38, 3.4028234663852886e+38, (4,), float32)\n"
          ]
        }
      ],
      "source": [
        "n_observations = env.observation_space\n",
        "print(\"Environment has observation space =\", n_observations)"
      ]
    },
    {
      "cell_type": "markdown",
      "metadata": {
        "id": "ZibGgjrALgPM"
      },
      "source": [
        "Second, we consider the action space. At every time step, the agent can move either right or left. Again we can confirm the size of the action space by querying the environment:"
      ]
    },
    {
      "cell_type": "code",
      "execution_count": null,
      "metadata": {
        "id": "qc9SIPxBIXrm",
        "colab": {
          "base_uri": "https://localhost:8080/"
        },
        "outputId": "1826176d-8696-464f-afc9-08192707c793"
      },
      "outputs": [
        {
          "output_type": "stream",
          "name": "stdout",
          "text": [
            "Number of possible actions that the agent can choose from = 2\n"
          ]
        }
      ],
      "source": [
        "n_actions = env.action_space.n\n",
        "print(\"Number of possible actions that the agent can choose from =\", n_actions)"
      ]
    },
    {
      "cell_type": "markdown",
      "metadata": {
        "id": "pPfHME8aRKkb"
      },
      "source": [
        "### Cartpole agent\n",
        "\n",
        "Now that we have instantiated the environment and understood the dimensionality of the observation and action spaces, we are ready to define our agent. In deep reinforcement learning, a deep neural network defines the agent. This network will take as input an observation of the environment and output the probability of taking each of the possible actions. Since Cartpole is defined by a low-dimensional observation space, a simple feed-forward neural network should work well for our agent. We will define this using the `Sequential` API.\n"
      ]
    },
    {
      "cell_type": "code",
      "execution_count": null,
      "metadata": {
        "id": "W-o_XK4oQ4eu"
      },
      "outputs": [],
      "source": [
        "### Define the Cartpole agent ###\n",
        "\n",
        "# Defines a feed-forward neural network\n",
        "def create_cartpole_model():\n",
        "    model = tf.keras.models.Sequential([\n",
        "        # First Dense layer\n",
        "        tf.keras.layers.Dense(units=32, activation='relu'),\n",
        "        \n",
        "        # TODO: Define the last Dense layer, which will provide the network's output.\n",
        "        # Think about the space the agent needs to act in!\n",
        "        tf.keras.layers.Dense(units=n_actions, activation=None)\n",
        "    ])\n",
        "    return model\n",
        "\n",
        "cartpole_model = create_cartpole_model()"
      ]
    },
    {
      "cell_type": "markdown",
      "metadata": {
        "id": "d5D5NSIYS2IW"
      },
      "source": [
        "Now that we have defined the core network architecture, we will define an *action function* that executes a forward pass through the network, given a set of observations, and samples from the output. This sampling from the output probabilities will be used to select the next action for the agent. We will also add support so that the `choose_action` function can handle either a single observation or a batch of observations.\n",
        "\n",
        "**Critically, this action function is totally general -- we will use this function for learning control algorithms for Cartpole, but it is applicable to other RL tasks, as well!**"
      ]
    },
    {
      "cell_type": "code",
      "execution_count": null,
      "metadata": {
        "id": "E_vVZRr8Q4R_"
      },
      "outputs": [],
      "source": [
        "### Define the agent's action function ###\n",
        "\n",
        "# Function that takes observations as input, executes a forward pass through model, \n",
        "#   and outputs a sampled action.\n",
        "# Arguments:\n",
        "#   model: the network that defines our agent\n",
        "#   observation: observation(s) which is/are fed as input to the model\n",
        "#   single: flag as to whether we are handling a single observation or batch of\n",
        "#     observations, provided as an np.array\n",
        "# Returns:\n",
        "#   action: choice of agent action\n",
        "def choose_action(model, observation, single=True):\n",
        "    # add batch dimension to the observation if only a single example was provided\n",
        "    observation = np.expand_dims(observation, axis=0) if single else observation\n",
        "\n",
        "    '''TODO: feed the observations through the model to predict the log probabilities of each possible action.'''\n",
        "    logits = model.predict(observation)\n",
        "\n",
        "    '''TODO: Choose an action from the categorical distribution defined by the log \n",
        "       probabilities of each possible action.'''\n",
        "    action = tf.random.categorical(logits, num_samples=1)\n",
        "\n",
        "    action = action.numpy().flatten()\n",
        "\n",
        "    return action[0] if single else action"
      ]
    },
    {
      "cell_type": "markdown",
      "metadata": {
        "id": "_tR9uAWcTnkr"
      },
      "source": [
        "## 3.2 Define the agent's memory\n",
        "\n",
        "Now that we have instantiated the environment and defined the agent network architecture and action function, we are ready to move on to the next step in our RL workflow:\n",
        "1. **Initialize our environment and our agent**: here we will describe the different observations and actions the agent can make in the environemnt.\n",
        "2. **Define our agent's memory**: this will enable the agent to remember its past actions, observations, and rewards.\n",
        "3. **Define the learning algorithm**: this will be used to reinforce the agent's good behaviors and discourage bad behaviors.\n",
        "\n",
        "In reinforcement learning, training occurs alongside the agent's acting in the environment; an *episode* refers to a sequence of actions that ends in some terminal state, such as the pole falling down or the cart crashing. The agent will need to remember all of its observations and actions, such that once an episode ends, it can learn to \"reinforce\" the good actions and punish the undesirable actions via training. Our first step is to define a simple `Memory` buffer that contains the agent's observations, actions, and received rewards from a given episode. We will also add support to combine a list of `Memory` objects into a single `Memory`. This will be very useful for batching, which will help you accelerate training later on in the lab.\n",
        "\n",
        "**Once again, note the modularity of this memory buffer -- it can and will be applied to other RL tasks as well!**"
      ]
    },
    {
      "cell_type": "code",
      "execution_count": null,
      "metadata": {
        "id": "8MM6JwXVQ4JG"
      },
      "outputs": [],
      "source": [
        "### Agent Memory ###\n",
        "\n",
        "class Memory:\n",
        "    def __init__(self): \n",
        "        self.clear()\n",
        "\n",
        "  # Resets/restarts the memory buffer\n",
        "    def clear(self): \n",
        "        self.observations = []\n",
        "        self.actions = []\n",
        "        self.rewards = []\n",
        "\n",
        "  # Add observations, actions, rewards to memory\n",
        "    def add_to_memory(self, new_observation, new_action, new_reward): \n",
        "        self.observations.append(new_observation)\n",
        "        \n",
        "        '''TODO: update the list of actions with new action'''\n",
        "        self.actions.append(new_action)\n",
        "\n",
        "        '''TODO: update the list of rewards with new reward'''\n",
        "        self.rewards.append(new_reward)\n",
        "\n",
        "    def __len__(self):\n",
        "        return len(self.actions)\n",
        "\n",
        "# Instantiate a single Memory buffer\n",
        "memory = Memory()"
      ]
    },
    {
      "cell_type": "markdown",
      "metadata": {
        "id": "D4YhtPaUVj5m"
      },
      "source": [
        "## 3.3 Reward function\n",
        "\n",
        "We're almost ready to begin the learning algorithm for our agent! The next step is to compute the rewards of our agent as it acts in the environment. Since we (and the agent) is uncertain about if and when the game or task will end (i.e., when the pole will fall), it is useful to emphasize getting rewards **now** rather than later in the future -- this is the idea of discounting. This is a similar concept to discounting money in the case of interest. Recall from lecture, we use reward discount to give more preference at getting rewards now rather than later in the future. The idea of discounting rewards is similar to discounting money in the case of interest.\n",
        "\n",
        "To compute the expected cumulative reward, known as the **return**, at a given timestep in a learning episode, we sum the discounted rewards expected at that time step $t$, within a learning episode, and projecting into the future. We define the return (cumulative reward) at a time step $t$, $R_{t}$ as:\n",
        "\n",
        ">$R_{t}=\\sum_{k=0}^\\infty\\gamma^kr_{t+k}$\n",
        "\n",
        "where  $0 < \\gamma < 1$ is the discount factor and $r_{t}$ is the reward at time step $t$, and the index $k$ increments projection into the future within a single learning episode. Intuitively, you can think of this function as depreciating any rewards received at later time steps, which will force the agent prioritize getting rewards now. Since we can't extend episodes to infinity, in practice the computation will be limited to the number of timesteps in an episode -- after that the reward is assumed to be zero.\n",
        "\n",
        "Take note of the form of this sum -- we'll have to be clever about how we implement this function. Specifically, we'll need to initialize an array of zeros, with length of the number of time steps, and fill it with the real discounted reward values as we loop through the rewards from the episode, which will have been saved in the agents memory. What we ultimately care about is which actions are better relative to other actions taken in that episode -- so, we'll normalize our computed rewards, using the mean and standard deviation of the rewards across the learning episode.\n",
        "\n",
        "We will use this definition of the reward function in both parts of the lab so make sure you have it executed!\n"
      ]
    },
    {
      "cell_type": "code",
      "execution_count": null,
      "metadata": {
        "id": "5_Q2OFYtQ32X"
      },
      "outputs": [],
      "source": [
        "### Reward function ###\n",
        "\n",
        "# Helper function that normalizes an np.array x\n",
        "def normalize(x):\n",
        "    x -= np.mean(x)\n",
        "    x /= np.std(x)\n",
        "    return x.astype(np.float32)\n",
        "\n",
        "# Compute normalized, discounted, cumulative rewards (i.e., return)\n",
        "# Arguments:\n",
        "#   rewards: reward at timesteps in episode\n",
        "#   gamma: discounting factor\n",
        "# Returns:\n",
        "#   normalized discounted reward\n",
        "def discount_rewards(rewards, gamma=0.95): \n",
        "    discounted_rewards = np.zeros_like(rewards)\n",
        "    R = 0\n",
        "    for t in reversed(range(0, len(rewards))):\n",
        "        # update the total discounted reward\n",
        "        R = R * gamma + rewards[t]\n",
        "        discounted_rewards[t] = R\n",
        "      \n",
        "    return normalize(discounted_rewards)"
      ]
    },
    {
      "cell_type": "markdown",
      "metadata": {
        "id": "QzbY-mjGYcmt"
      },
      "source": [
        "## 3.4 Learning algorithm\n",
        "\n",
        "Now we can start to define the learing algorithm which will be used to reinforce good behaviors of the agent and discourage bad behaviours. In this lab, we will focus on *policy gradient* methods which aim to **maximize** the likelihood of actions that result in large rewards. Equivalently, this means that we want to **minimize** the negative likelihood of these same actions. We achieve this by simply **scaling** the probabilities by their associated rewards -- effectively amplifying the likelihood of actions that resujlt in large rewards.\n",
        "\n",
        "Since the log function is monotonically increasing, this means that minimizing **negative likelihood** is equivalent to minimizing **negative log-likelihood**.  Recall that we can easily compute the negative log-likelihood of a discrete action by evaluting its [softmax cross entropy](https://www.tensorflow.org/api_docs/python/tf/nn/sparse_softmax_cross_entropy_with_logits). Like in supervised learning, we can use stochastic gradient descent methods to achieve the desired minimization. \n",
        "\n",
        "Let's begin by defining the loss function."
      ]
    },
    {
      "cell_type": "code",
      "execution_count": null,
      "metadata": {
        "id": "fsgZ3IDCY_Zn"
      },
      "outputs": [],
      "source": [
        "### Loss function ###\n",
        "\n",
        "# Arguments:\n",
        "#   logits: network's predictions for actions to take\n",
        "#   actions: the actions the agent took in an episode\n",
        "#   rewards: the rewards the agent received in an episode\n",
        "# Returns:\n",
        "#   loss\n",
        "def compute_loss(logits, actions, rewards): \n",
        "    '''TODO: complete the function call to compute the negative log probabilities'''\n",
        "    neg_logprob = tf.nn.sparse_softmax_cross_entropy_with_logits(\n",
        "        logits=logits,\n",
        "        labels=actions)\n",
        "  \n",
        "    '''TODO: scale the negative log probability by the rewards'''\n",
        "    loss = tf.reduce_mean(neg_logprob*rewards)\n",
        "    return loss"
      ]
    },
    {
      "cell_type": "markdown",
      "metadata": {
        "id": "Rr5vQ9fqbPpp"
      },
      "source": [
        "Now let's use the loss function to define a training step of our learning algorithm. This is a very generalizable definition which we will use "
      ]
    },
    {
      "cell_type": "code",
      "execution_count": null,
      "metadata": {
        "id": "_50ada7nbZ7L"
      },
      "outputs": [],
      "source": [
        "### Training step (forward and backpropagation) ###\n",
        "\n",
        "def train_step(model, loss_function, optimizer, observations, actions, discounted_rewards, custom_fwd_fn=None):\n",
        "    with tf.GradientTape() as tape:\n",
        "        # Forward propagate through the agent network\n",
        "        if custom_fwd_fn is not None:\n",
        "            prediction = custom_fwd_fn(observations)\n",
        "        else: \n",
        "            prediction = model(observations)\n",
        "\n",
        "        '''TODO: call the compute_loss function to compute the loss'''\n",
        "        loss = loss_function(prediction, actions, discounted_rewards)\n",
        "\n",
        "    '''TODO: run backpropagation to minimize the loss using the tape.gradient method. \n",
        "             Unlike supervised learning, RL is *extremely* noisy, so you will benefit \n",
        "             from additionally clipping your gradients to avoid falling into \n",
        "             dangerous local minima. After computing your gradients try also clipping\n",
        "             by a global normalizer. Try different clipping values, usually clipping \n",
        "             between 0.5 and 5 provides reasonable results. '''\n",
        "    grads = tape.gradient(loss, model.trainable_variables)\n",
        "\n",
        "    grads, _ = tf.clip_by_global_norm(grads, 1)\n",
        "    optimizer.apply_gradients(zip(grads, model.trainable_variables))"
      ]
    },
    {
      "cell_type": "markdown",
      "metadata": {
        "id": "XsjKXh6BcgjR"
      },
      "source": [
        "## 3.5 Run cartpole!\n",
        "\n",
        "Having had no prior knowledge of the environment, the agent will begin to learn how to balance the pole on the cart based only on the feedback received from the environment! Having defined how our agent can move, how it takes in new observations, and how it updates its state, we'll see how it gradually learns a policy of actions to optimize balancing the pole as long as possible. To do this, we'll track how the rewards evolve as a function of training -- how should the rewards change as training progresses?"
      ]
    },
    {
      "cell_type": "code",
      "execution_count": null,
      "metadata": {
        "id": "-hZ7E6JOJ9Bn"
      },
      "outputs": [],
      "source": [
        "## Training parameters ##\n",
        "## Re-run this cell to restart training from scratch ##\n",
        "\n",
        "# TODO: Learning rate and optimizer\n",
        "learning_rate = 0.001\n",
        "\n",
        "optimizer = tf.keras.optimizers.Adam(learning_rate)\n",
        "\n",
        "# instantiate cartpole agent\n",
        "cartpole_model = create_cartpole_model()\n",
        "\n",
        "# to track our progress\n",
        "smoothed_reward = mdl.util.LossHistory(smoothing_factor=0.95)\n",
        "plotter = mdl.util.PeriodicPlotter(sec=2, xlabel='Iterations', ylabel='Rewards')"
      ]
    },
    {
      "cell_type": "code",
      "execution_count": null,
      "metadata": {
        "id": "XmOzc2rrcn8Q",
        "scrolled": false,
        "colab": {
          "base_uri": "https://localhost:8080/",
          "height": 541
        },
        "outputId": "bcf1a046-769d-4aad-c509-d0660e15481b"
      },
      "outputs": [
        {
          "output_type": "display_data",
          "data": {
            "text/plain": [
              "<Figure size 432x288 with 1 Axes>"
            ],
            "image/png": "[encoded data removed]"
          },
          "metadata": {}
        },
        {
          "output_type": "display_data",
          "data": {
            "text/plain": [
              "<Figure size 432x288 with 1 Axes>"
            ],
            "image/png": "[encoded data removed]"
          },
          "metadata": {
            "needs_background": "light"
          }
        }
      ],
      "source": [
        "## Cartpole training! ##\n",
        "## Note: stoping and restarting this cell will pick up training where you\n",
        "#        left off. To restart training you need to rerun the cell above as \n",
        "#        well (to re-initialize the model and optimizer)\n",
        "\n",
        "if hasattr(tqdm, '_instances'): tqdm._instances.clear() # clear if it exists\n",
        "for i_episode in range(500):\n",
        "\n",
        "    plotter.plot(smoothed_reward.get())\n",
        "    # Restart the environment\n",
        "    observation = env.reset()\n",
        "    memory.clear()\n",
        "\n",
        "    while True:\n",
        "        # using our observation, choose an action and take it in the environment\n",
        "        action = choose_action(cartpole_model, observation)\n",
        "        next_observation, reward, done, info = env.step(action)\n",
        "        # add to memory\n",
        "        memory.add_to_memory(observation, action, reward)\n",
        "\n",
        "        # is the episode over? did you crash or do so well that you're done?\n",
        "        if done:\n",
        "            # determine total reward and keep a record of this\n",
        "            total_reward = sum(memory.rewards)\n",
        "            smoothed_reward.append(total_reward)\n",
        "          \n",
        "            # initiate training - remember we don't know anything about how the \n",
        "            #   agent is doing until it has crashed!\n",
        "            g = train_step(cartpole_model, compute_loss, optimizer, \n",
        "                       observations=np.vstack(memory.observations),\n",
        "                       actions=np.array(memory.actions),\n",
        "                       discounted_rewards = discount_rewards(memory.rewards))\n",
        "          \n",
        "            # reset the memory\n",
        "            memory.clear()\n",
        "            break\n",
        "        # update our observatons\n",
        "        observation = next_observation"
      ]
    },
    {
      "cell_type": "markdown",
      "metadata": {
        "id": "mkcUtGF1VE-K"
      },
      "source": [
        "To get a sense of how our agent did, we can save a video of the trained model working on balancing the pole. Realize that this is a brand new environment that the agent has not seen before!\n",
        "\n",
        "Let's display the saved video to watch how our agent did!\n"
      ]
    },
    {
      "cell_type": "code",
      "execution_count": null,
      "metadata": {
        "id": "PAYBkv6Zbk0J",
        "scrolled": true,
        "colab": {
          "base_uri": "https://localhost:8080/",
          "height": 439
        },
        "outputId": "0895672d-4ae5-4520-bb39-d3b26ce35b25"
      },
      "outputs": [
        {
          "output_type": "stream",
          "name": "stdout",
          "text": [
            "Successfully saved 240 frames into CartPole-v1.mp4!\n"
          ]
        },
        {
          "output_type": "execute_result",
          "data": {
            "text/plain": [
              "<IPython.core.display.HTML object>"
            ],
            "text/html": [
              "\n",
              "        <video controls >\n",
              "            <source src=\"data:video/mp4;base64,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\" type=\"video/mp4\" />\n",
              "        </video>"
            ]
          },
          "metadata": {},
          "execution_count": 15
        }
      ],
      "source": [
        "matplotlib.use('Agg') \n",
        "saved_cartpole = mdl.lab3.save_video_of_model(cartpole_model, \"CartPole-v1\")\n",
        "mdl.lab3.play_video(saved_cartpole)"
      ]
    },
    {
      "cell_type": "markdown",
      "metadata": {
        "id": "CSbVNDpaVb3_"
      },
      "source": [
        "How does the agent perform? Could you train it for shorter amounts of time and still perform well? Do you think that training longer would help even more? "
      ]
    },
    {
      "cell_type": "markdown",
      "source": [
        "Part 2 is currently broken... Only part 1 completed."
      ],
      "metadata": {
        "id": "H4oN_Wz8bG2P"
      }
    },
    {
      "cell_type": "markdown",
      "metadata": {
        "id": "Eu6Mqxc720ST"
      },
      "source": [
        "# Part 2: Training Autonomous Driving Policies in VISTA\n",
        "Autonomous control has traditionally be dominated by algorithms that explicitly decompose individual aspects of the control pipeline. For example, in autonomous driving, traditional methods work by first detecting road and lane boundaries, and then using path planning and rule-based methods to derive a control policy. Deep learning offers something very different -- the possibility of optimizing all these steps simultaneously, learning control end-to-end directly from raw sensory inputs.\n",
        "\n",
        "**You will explore the power of deep learning to learn autonomous control policies that are trained *end-to-end, directly from raw sensory data, and entirely within a simulated world*.**\n",
        "\n",
        "We will use the data-driven simulation engine [VISTA](https://ieeexplore.ieee.org/stamp/stamp.jsp?arnumber=8957584&tag=1), which uses techniques in computer vision to synthesize new photorealistic trajectories and driving viewpoints, that are still consistent with the world's appearance and fall within the envelope of a real driving scene. This is a powerful approach -- we can synthesize data that is photorealistic, grounded in the real world, and then use this data for training and testing autonomous vehicle control policies within this simulator.\n",
        "\n",
        "In this part of the lab, you will use reinforcement lerning to build a self-driving agent with a neural network-based controller trained on RGB camera data. We will train the self-driving agent for the task of lane following. Beyond this data modality and control task, VISTA also supports [different data modalities](https://arxiv.org/pdf/2111.12083.pdf) (such as LiDAR data) and [different learning tasks](https://arxiv.org/pdf/2111.12137.pdf) (such as multi-car interactions).\n",
        "<p align=\"center\">\n",
        "<img src=\"https://raw.githubusercontent.com/aamini/introtodeeplearning/master/lab3/img/vista_overview.png\" width=\"600\"/>\n",
        "</p>\n",
        "\n",
        "\n",
        "You will put your agent to the test in the VISTA environment, and potentially, on board a full-scale autonomous vehicle! Specifically, as part of the MIT lab competitions, high-performing agents -- evaluated based on the maximum distance they can travel without crashing -- will have the opportunity to be put to the ***real*** test onboard a full-scale autonomous vehicle!!! \n",
        "\n",
        "We start by installing dependencies. This includes installing the VISTA package itself."
      ]
    },
    {
      "cell_type": "code",
      "source": [
        "!pip install --upgrade git+https://github.com/vista-simulator/vista-6s191.git"
      ],
      "metadata": {
        "id": "WKWcagMpRLIB",
        "colab": {
          "base_uri": "https://localhost:8080/"
        },
        "outputId": "2fc83948-2db2-4851-ec0c-178d54ae5af0"
      },
      "execution_count": null,
      "outputs": [
        {
          "output_type": "stream",
          "name": "stdout",
          "text": [
            "Collecting git+https://github.com/vista-simulator/vista-6s191.git\n",
            "  Cloning https://github.com/vista-simulator/vista-6s191.git to /tmp/pip-req-build-b7_w09v9\n",
            "  Running command git clone -q https://github.com/vista-simulator/vista-6s191.git /tmp/pip-req-build-b7_w09v9\n",
            "Building wheels for collected packages: vista\n",
            "  Building wheel for vista (setup.py) ... \u001b[?25l\u001b[?25hdone\n",
            "  Created wheel for vista: filename=vista-0.1.0-py3-none-any.whl size=71732 sha256=d99ecc46d9be488f3e819a3d1e52202b99cb0d9a32e1649c2273fb229889928e\n",
            "  Stored in directory: /tmp/pip-ephem-wheel-cache-llyq7at_/wheels/ff/19/49/f129fb1af9a79d6833e2ba58a5e217487643c11d6f041d7419\n",
            "Successfully built vista\n",
            "Installing collected packages: vista\n",
            "Successfully installed vista-0.1.0\n"
          ]
        }
      ]
    },
    {
      "cell_type": "code",
      "source": [
        "import vista\n",
        "from vista.utils import logging\n",
        "logging.setLevel(logging.ERROR)"
      ],
      "metadata": {
        "id": "ByV6c5GKTgHq",
        "colab": {
          "base_uri": "https://localhost:8080/"
        },
        "outputId": "5ea02c2b-d521-4428-9264-145696f0e4a8"
      },
      "execution_count": null,
      "outputs": [
        {
          "output_type": "stream",
          "name": "stderr",
          "text": [
            "\u001b[93m2022-04-13 10:14:20,200::WARNING::[vista.entities.sensors.EventCamera.<module>] Fail to import module for event camera. Remember to do source <some-dir>/openeb/build/utils/scripts/setup_env.shCan ignore this if not using it\u001b[0;0m\n"
          ]
        }
      ]
    },
    {
      "cell_type": "markdown",
      "metadata": {
        "id": "70Vpby5VJ9Bp"
      },
      "source": [
        "VISTA provides some documentation which will be very helpful to completing this lab. You can always use the `?vista` command to access the package documentation."
      ]
    },
    {
      "cell_type": "code",
      "source": [
        "### Access documentation for VISTA\n",
        "### Run ?vista.<[name of module or function]>\n",
        "?vista.Display "
      ],
      "metadata": {
        "id": "-RTw0OK4nTYi"
      },
      "execution_count": null,
      "outputs": []
    },
    {
      "cell_type": "markdown",
      "source": [
        "## 3.6 Create an environment in VISTA\n",
        "\n",
        "Environments in VISTA are based on and built from human-collected driving *traces*. A trace is the data from a single driving run. In this case we'll be working with RGB camera data, from the viewpoint of the driver looking out at the road: the camera collects this data as the car drives around!\n",
        "\n",
        "We will start by accessing a trace. We use that trace to instantiate an environment within VISTA. This is our `World` and defines the environment we will use for reinforcement learning. The trace itself helps to define a space for the environment; with VISTA, we can use the trace to generate new photorealistic viewpoints anywhere within that space. This provides valuable new training data as well as a robust testing environment.\n",
        "\n",
        "The simulated environment of VISTA will serve as our training ground and testbed for reinforcement learning. We also define an `Agent` -- a car -- that will actually move around in the environmnet, and make and carry out *actions* in this world. Because this is an entirely simulated environment, our car agent will also be simulated!\n",
        "\n"
      ],
      "metadata": {
        "id": "XauFMMZjnYxn"
      }
    },
    {
      "cell_type": "code",
      "execution_count": null,
      "metadata": {
        "scrolled": true,
        "id": "JrTpTBJsJ9Bp",
        "colab": {
          "base_uri": "https://localhost:8080/",
          "height": 432
        },
        "outputId": "d2bccfc2-c580-4468-f0e4-149fbfde7a8f"
      },
      "outputs": [
        {
          "output_type": "stream",
          "name": "stdout",
          "text": [
            "vista_traces.zip    100%[===================>] 609.05M  13.1MB/s    in 39s     \n",
            "Unzipping data...\n",
            "Done downloading and unzipping data!\n"
          ]
        },
        {
          "output_type": "error",
          "ename": "AttributeError",
          "evalue": "ignored",
          "traceback": [
            "\u001b[0;31m---------------------------------------------------------------------------\u001b[0m",
            "\u001b[0;31mAttributeError\u001b[0m                            Traceback (most recent call last)",
            "\u001b[0;32m<ipython-input-8-4568a7e313fe>\u001b[0m in \u001b[0;36m<module>\u001b[0;34m()\u001b[0m\n\u001b[1;32m     29\u001b[0m \u001b[0;34m\u001b[0m\u001b[0m\n\u001b[1;32m     30\u001b[0m \u001b[0;31m# Create a camera on the car for synthesizing the sensor data that we can use to train with!\u001b[0m\u001b[0;34m\u001b[0m\u001b[0;34m\u001b[0m\u001b[0;34m\u001b[0m\u001b[0m\n\u001b[0;32m---> 31\u001b[0;31m \u001b[0mcamera\u001b[0m \u001b[0;34m=\u001b[0m \u001b[0mcar\u001b[0m\u001b[0;34m.\u001b[0m\u001b[0mspawn_camera\u001b[0m\u001b[0;34m(\u001b[0m\u001b[0mconfig\u001b[0m\u001b[0;34m=\u001b[0m\u001b[0;34m{\u001b[0m\u001b[0;34m'size'\u001b[0m\u001b[0;34m:\u001b[0m \u001b[0;34m(\u001b[0m\u001b[0;36m200\u001b[0m\u001b[0;34m,\u001b[0m \u001b[0;36m320\u001b[0m\u001b[0;34m)\u001b[0m\u001b[0;34m}\u001b[0m\u001b[0;34m)\u001b[0m\u001b[0;34m\u001b[0m\u001b[0;34m\u001b[0m\u001b[0m\n\u001b[0m\u001b[1;32m     32\u001b[0m \u001b[0;34m\u001b[0m\u001b[0m\n\u001b[1;32m     33\u001b[0m \u001b[0;31m# Define a rendering display so we can visualize the simulated car camera stream and also\u001b[0m\u001b[0;34m\u001b[0m\u001b[0;34m\u001b[0m\u001b[0;34m\u001b[0m\u001b[0m\n",
            "\u001b[0;32m/usr/local/lib/python3.7/dist-packages/vista/entities/agents/Car.py\u001b[0m in \u001b[0;36mspawn_camera\u001b[0;34m(self, config)\u001b[0m\n\u001b[1;32m    116\u001b[0m         \u001b[0mname\u001b[0m \u001b[0;34m=\u001b[0m \u001b[0mconfig\u001b[0m\u001b[0;34m.\u001b[0m\u001b[0mget\u001b[0m\u001b[0;34m(\u001b[0m\u001b[0;34m'name'\u001b[0m\u001b[0;34m,\u001b[0m \u001b[0;32mNone\u001b[0m\u001b[0;34m)\u001b[0m\u001b[0;34m\u001b[0m\u001b[0;34m\u001b[0m\u001b[0m\n\u001b[1;32m    117\u001b[0m         \u001b[0mlogging\u001b[0m\u001b[0;34m.\u001b[0m\u001b[0minfo\u001b[0m\u001b[0;34m(\u001b[0m\u001b[0;34mf'Spawn a new camera {name} in car ({self.id})'\u001b[0m\u001b[0;34m)\u001b[0m\u001b[0;34m\u001b[0m\u001b[0;34m\u001b[0m\u001b[0m\n\u001b[0;32m--> 118\u001b[0;31m         \u001b[0mcam\u001b[0m \u001b[0;34m=\u001b[0m \u001b[0mCamera\u001b[0m\u001b[0;34m(\u001b[0m\u001b[0mattach_to\u001b[0m\u001b[0;34m=\u001b[0m\u001b[0mself\u001b[0m\u001b[0;34m,\u001b[0m \u001b[0mconfig\u001b[0m\u001b[0;34m=\u001b[0m\u001b[0mconfig\u001b[0m\u001b[0;34m)\u001b[0m\u001b[0;34m\u001b[0m\u001b[0;34m\u001b[0m\u001b[0m\n\u001b[0m\u001b[1;32m    119\u001b[0m         \u001b[0mself\u001b[0m\u001b[0;34m.\u001b[0m\u001b[0m_sensors\u001b[0m\u001b[0;34m.\u001b[0m\u001b[0mappend\u001b[0m\u001b[0;34m(\u001b[0m\u001b[0mcam\u001b[0m\u001b[0;34m)\u001b[0m\u001b[0;34m\u001b[0m\u001b[0;34m\u001b[0m\u001b[0m\n\u001b[1;32m    120\u001b[0m \u001b[0;34m\u001b[0m\u001b[0m\n",
            "\u001b[0;32m/usr/local/lib/python3.7/dist-packages/vista/entities/sensors/Camera.py\u001b[0m in \u001b[0;36m__init__\u001b[0;34m(self, attach_to, config)\u001b[0m\n\u001b[1;32m     47\u001b[0m \u001b[0;34m\u001b[0m\u001b[0m\n\u001b[1;32m     48\u001b[0m     \u001b[0;32mdef\u001b[0m \u001b[0m__init__\u001b[0m\u001b[0;34m(\u001b[0m\u001b[0mself\u001b[0m\u001b[0;34m,\u001b[0m \u001b[0mattach_to\u001b[0m\u001b[0;34m:\u001b[0m \u001b[0mEntity\u001b[0m\u001b[0;34m,\u001b[0m \u001b[0mconfig\u001b[0m\u001b[0;34m:\u001b[0m \u001b[0mDict\u001b[0m\u001b[0;34m)\u001b[0m \u001b[0;34m->\u001b[0m \u001b[0;32mNone\u001b[0m\u001b[0;34m:\u001b[0m\u001b[0;34m\u001b[0m\u001b[0;34m\u001b[0m\u001b[0m\n\u001b[0;32m---> 49\u001b[0;31m         \u001b[0msuper\u001b[0m\u001b[0;34m(\u001b[0m\u001b[0mCamera\u001b[0m\u001b[0;34m,\u001b[0m \u001b[0mself\u001b[0m\u001b[0;34m)\u001b[0m\u001b[0;34m.\u001b[0m\u001b[0m__init__\u001b[0m\u001b[0;34m(\u001b[0m\u001b[0mattach_to\u001b[0m\u001b[0;34m,\u001b[0m \u001b[0mconfig\u001b[0m\u001b[0;34m)\u001b[0m\u001b[0;34m\u001b[0m\u001b[0;34m\u001b[0m\u001b[0m\n\u001b[0m\u001b[1;32m     50\u001b[0m \u001b[0;34m\u001b[0m\u001b[0m\n\u001b[1;32m     51\u001b[0m         \u001b[0;31m# Define the CameraParams object for each physical camera in each trace\u001b[0m\u001b[0;34m\u001b[0m\u001b[0;34m\u001b[0m\u001b[0;34m\u001b[0m\u001b[0m\n",
            "\u001b[0;32m/usr/local/lib/python3.7/dist-packages/vista/entities/sensors/BaseSensor.py\u001b[0m in \u001b[0;36m__init__\u001b[0;34m(self, attach_to, config)\u001b[0m\n\u001b[1;32m     21\u001b[0m \u001b[0;34m\u001b[0m\u001b[0m\n\u001b[1;32m     22\u001b[0m         \u001b[0mself\u001b[0m\u001b[0;34m.\u001b[0m\u001b[0m_parent\u001b[0m \u001b[0;34m=\u001b[0m \u001b[0mattach_to\u001b[0m\u001b[0;34m\u001b[0m\u001b[0;34m\u001b[0m\u001b[0m\n\u001b[0;32m---> 23\u001b[0;31m         \u001b[0mconfig\u001b[0m \u001b[0;34m=\u001b[0m \u001b[0mmisc\u001b[0m\u001b[0;34m.\u001b[0m\u001b[0mmerge_dict\u001b[0m\u001b[0;34m(\u001b[0m\u001b[0mconfig\u001b[0m\u001b[0;34m,\u001b[0m \u001b[0mself\u001b[0m\u001b[0;34m.\u001b[0m\u001b[0mDEFAULT_CONFIG\u001b[0m\u001b[0;34m)\u001b[0m\u001b[0;34m\u001b[0m\u001b[0;34m\u001b[0m\u001b[0m\n\u001b[0m\u001b[1;32m     24\u001b[0m         \u001b[0mself\u001b[0m\u001b[0;34m.\u001b[0m\u001b[0m_config\u001b[0m \u001b[0;34m=\u001b[0m \u001b[0mconfig\u001b[0m\u001b[0;34m\u001b[0m\u001b[0;34m\u001b[0m\u001b[0m\n\u001b[1;32m     25\u001b[0m         \u001b[0mself\u001b[0m\u001b[0;34m.\u001b[0m\u001b[0m_name\u001b[0m \u001b[0;34m=\u001b[0m \u001b[0mconfig\u001b[0m\u001b[0;34m[\u001b[0m\u001b[0;34m'name'\u001b[0m\u001b[0;34m]\u001b[0m\u001b[0;34m\u001b[0m\u001b[0;34m\u001b[0m\u001b[0m\n",
            "\u001b[0;31mAttributeError\u001b[0m: module 'vista.utils.misc' has no attribute 'merge_dict'"
          ]
        }
      ],
      "source": [
        "# Download and extract the data for vista (auto-skip if already downloaded)\n",
        "!wget -nc -q --show-progress https://www.dropbox.com/s/62pao4mipyzk3xu/vista_traces.zip\n",
        "print(\"Unzipping data...\")\n",
        "!unzip -o -q vista_traces.zip\n",
        "print(\"Done downloading and unzipping data!\")\n",
        "\n",
        "trace_root = \"./vista_traces\"\n",
        "trace_path = [\n",
        "    \"20210726-154641_lexus_devens_center\", \n",
        "    \"20210726-155941_lexus_devens_center_reverse\", \n",
        "    \"20210726-184624_lexus_devens_center\", \n",
        "    \"20210726-184956_lexus_devens_center_reverse\", \n",
        "]\n",
        "trace_path = [os.path.join(trace_root, p) for p in trace_path]\n",
        "\n",
        "# Create a virtual world with VISTA, the world is defined by a series of data traces\n",
        "world = vista.World(trace_path, trace_config={'road_width': 4})\n",
        "\n",
        "# Create a car in our virtual world. The car will be able to step and take different \n",
        "#   control actions. As the car moves, its sensors will simulate any changes it environment\n",
        "car = world.spawn_agent(\n",
        "    config={\n",
        "        'length': 5.,\n",
        "        'width': 2.,\n",
        "        'wheel_base': 2.78,\n",
        "        'steering_ratio': 14.7,\n",
        "        'lookahead_road': True\n",
        "    })\n",
        "\n",
        "# Create a camera on the car for synthesizing the sensor data that we can use to train with! \n",
        "camera = car.spawn_camera(config={'size': (200, 320)})\n",
        "\n",
        "# Define a rendering display so we can visualize the simulated car camera stream and also \n",
        "#   get see its physical location with respect to the road in its environment. \n",
        "display = vista.Display(world, display_config={\"gui_scale\": 2, \"vis_full_frame\": False})\n",
        "\n",
        "# Define a simple helper function that allows us to reset VISTA and the rendering display\n",
        "def vista_reset():\n",
        "    world.reset()\n",
        "    display.reset()\n",
        "vista_reset()"
      ]
    },
    {
      "cell_type": "markdown",
      "source": [
        "If successful, you should see a blank black screen at this point. Your rendering display has  been initialized."
      ],
      "metadata": {
        "id": "aa3sA9FKndIx"
      }
    },
    {
      "cell_type": "markdown",
      "source": [
        "## 3.7 Our virtual agent: the car\n",
        "\n",
        "Our goal is to learn a control policy for our agent, our (hopefully) autonomous vehicle, end-to-end directly from RGB camera sensory input. As in Cartpole, we need to define how our virtual agent will interact with its environment.\n",
        "\n",
        "### Define agent's action functions\n",
        "In the case of driving, the car agent can act -- taking a step in the VISTA environment -- according to a given control command. This amounts to moving with a desired speed and a desired *curvature*, which reflects the car's turn radius. Curvature has units $\\frac{1}{meter}$. So, if a car is traversing a circle of radius $r$ meters, then it is turning with a curvature $\\frac{1}{r}$. The curvature is therefore correlated with the car's steering wheel angle, which actually controls its turn radius. Let's define the car agent's step function to capture the action of moving with a desired speed and desired curvature."
      ],
      "metadata": {
        "id": "rNzwTTwzngQH"
      }
    },
    {
      "cell_type": "code",
      "execution_count": null,
      "metadata": {
        "id": "ZjFecj3WJ9Bp"
      },
      "outputs": [],
      "source": [
        "# First we define a step function, to allow our virtual agent to step \n",
        "# with a given control command through the environment \n",
        "# agent can act with a desired curvature (turning radius, like steering angle)\n",
        "# and desired speed. if either is not provided then this step function will \n",
        "# use whatever the human executed at that time in the real data.\n",
        "\n",
        "def vista_step(curvature=None, speed=None):\n",
        "    # Arguments:\n",
        "    #   curvature: curvature to step with\n",
        "    #   speed: speed to step with\n",
        "    if curvature is None: \n",
        "        curvature = car.trace.f_curvature(car.timestamp)\n",
        "    if speed is None: \n",
        "        speed = car.trace.f_speed(car.timestamp)\n",
        "    \n",
        "    car.step_dynamics(action=np.array([curvature, speed]), dt=1/15.)\n",
        "    car.step_sensors()"
      ]
    },
    {
      "cell_type": "markdown",
      "metadata": {
        "id": "aRmV3GtkJ9Bp"
      },
      "source": [
        "### Inspect driving trajectories in VISTA\n",
        "\n",
        "Recall that our VISTA environment is based off an initial human-collected driving trace. Also, we defined the agent's step function to defer to what the human executed if it is not provided with a desired speed and curvature with which to move.\n",
        "\n",
        "Thus, we can further inspect our environment by using the step function for the driving agent to move through the environment by following the human path. The stepping and iteration will take about 1 iteration per second. We will then observe the data that comes out to see the agent's traversal of the environment."
      ]
    },
    {
      "cell_type": "code",
      "execution_count": null,
      "metadata": {
        "id": "rp8G7eirJ9Bp"
      },
      "outputs": [],
      "source": [
        "import shutil, os, subprocess, cv2\n",
        "\n",
        "# Create a simple helper class that will assist us in storing videos of the render\n",
        "class VideoStream():\n",
        "    def __init__(self):\n",
        "        self.tmp = \"./tmp\"\n",
        "        if os.path.exists(self.tmp) and os.path.isdir(self.tmp):\n",
        "            shutil.rmtree(self.tmp)\n",
        "        os.mkdir(self.tmp)\n",
        "    def write(self, image, index):\n",
        "        cv2.imwrite(os.path.join(self.tmp, f\"{index:04}.png\"), image)\n",
        "    def save(self, fname):\n",
        "        cmd = f\"/usr/bin/ffmpeg -f image2 -i {self.tmp}/%04d.png -crf 0 -y {fname}\"\n",
        "        subprocess.call(cmd, shell=True)\n",
        "        "
      ]
    },
    {
      "cell_type": "code",
      "execution_count": null,
      "metadata": {
        "scrolled": true,
        "id": "MlC5t0dyJ9Bq"
      },
      "outputs": [],
      "source": [
        "## Render and inspect a human trace ##\n",
        "\n",
        "vista_reset()\n",
        "stream = VideoStream()\n",
        "\n",
        "for i in tqdm(range(100)):\n",
        "    vista_step()\n",
        "    \n",
        "    # Render and save the display\n",
        "    vis_img = display.render()\n",
        "    stream.write(vis_img[:, :, ::-1], index=i)\n",
        "    if car.done: \n",
        "        break\n",
        "\n",
        "print(\"Saving trajectory of human following...\")\n",
        "stream.save(\"human_follow.mp4\")      \n",
        "mdl.lab3.play_video(\"human_follow.mp4\")"
      ]
    },
    {
      "cell_type": "markdown",
      "source": [
        "Check out the simulated VISTA environment. What do you notice about the environment, the agent, and the setup of the simulation engine? How could these aspects useful for training models?"
      ],
      "metadata": {
        "id": "SCeRDuqV-bye"
      }
    },
    {
      "cell_type": "markdown",
      "metadata": {
        "id": "CvJCRINbJ9Bq"
      },
      "source": [
        "### Define terminal states: crashing! (oh no)\n",
        "\n",
        "Recall from Cartpole, our training episodes ended when the pole toppled, i.e., the agent crashed and failed. Similarly for training vehicle control policies in VISTA, we have to define what a ***crash*** means. We will define a crash as any time the car moves out of its lane or exceeds its maximum rotation. This will define the end of a training episode."
      ]
    },
    {
      "cell_type": "code",
      "execution_count": null,
      "metadata": {
        "id": "2_6U_VAFJ9Bq"
      },
      "outputs": [],
      "source": [
        "## Define terminal states and crashing conditions ##\n",
        "\n",
        "def check_out_of_lane(car):\n",
        "    distance_from_center = np.abs(car.relative_state.x)\n",
        "    road_width = car.trace.road_width \n",
        "    half_road_width = road_width / 2\n",
        "    return distance_from_center > half_road_width\n",
        "\n",
        "def check_exceed_max_rot(car):\n",
        "    maximal_rotation = np.pi / 10.\n",
        "    current_rotation = np.abs(car.relative_state.yaw)\n",
        "    return current_rotation > maximal_rotation\n",
        "\n",
        "def check_crash(car): \n",
        "    return check_out_of_lane(car) or check_exceed_max_rot(car) or car.done"
      ]
    },
    {
      "cell_type": "markdown",
      "metadata": {
        "id": "YFXUZ8ppJ9Bq"
      },
      "source": [
        "### Quick check: acting with a random control policy\n",
        "\n",
        "At this point, we have (1) an environment; (2) an agent, with a step function. Before we start learning a control policy for our vehicle agent, we start by testing out the behavior of the agent in the virtual world by providing it with a completely random control policy. Naturally we expect that the behavior will not be very robust! Let's take a look."
      ]
    },
    {
      "cell_type": "code",
      "execution_count": null,
      "metadata": {
        "id": "ZIyI5MqwJ9Bq"
      },
      "outputs": [],
      "source": [
        "## Behavior with random control policy ##\n",
        "\n",
        "i = 0\n",
        "num_crashes = 5\n",
        "stream = VideoStream()\n",
        "\n",
        "for _ in range(num_crashes):\n",
        "    vista_reset()\n",
        "    \n",
        "    while not check_crash(car):\n",
        "\n",
        "        # Sample a random curvature (between +/- 1/3), keep speed constant\n",
        "        curvature = np.random.uniform(-1/3, 1/3)\n",
        "\n",
        "        # Step the simulated car with the same action\n",
        "        vista_step(curvature=curvature)\n",
        "\n",
        "        # Render and save the display\n",
        "        vis_img = display.render()\n",
        "        stream.write(vis_img[:, :, ::-1], index=i)\n",
        "        i += 1\n",
        "    \n",
        "    print(f\"Car crashed on step {i}\")\n",
        "    for _ in range(5):\n",
        "        stream.write(vis_img[:, :, ::-1], index=i)\n",
        "        i += 1\n",
        "\n",
        "print(\"Saving trajectory with random policy...\")\n",
        "stream.save(\"random_policy.mp4\")\n",
        "mdl.lab3.play_video(\"random_policy.mp4\")"
      ]
    },
    {
      "cell_type": "markdown",
      "metadata": {
        "id": "OL02qW5vJ9Br"
      },
      "source": [
        "## 3.8 Preparing to learn a control policy: data preprocessing\n",
        "\n",
        "So, hopefully you saw that the random control policy was, indeed, not very robust. Yikes. Our overall goal in this lab is to build a self-driving agent using a neural network controller trained entirely in the simulator VISTA. This means that the data used to train and test the self-driving agent will be supplied by VISTA. As a step towards this, we will do some data preprocessing to make it easier for the network to learn from these visual data.\n",
        "\n",
        "Previously we rendered the data with a display as a quick check that the environment was working properly. For training the agent, we will directly access the car's observations, extract Regions Of Interest (ROI) from those observations, crop them out, and use these crops as training data for our self-driving agent controller. Observe both the full observation and the extracted ROI."
      ]
    },
    {
      "cell_type": "code",
      "execution_count": null,
      "metadata": {
        "id": "4UxX6mk5J9Br"
      },
      "outputs": [],
      "source": [
        "from google.colab.patches import cv2_imshow\n",
        "\n",
        "# Directly access the raw sensor observations of the simulated car\n",
        "vista_reset()\n",
        "full_obs = car.observations[camera.name]\n",
        "cv2_imshow(full_obs)"
      ]
    },
    {
      "cell_type": "code",
      "source": [
        "## ROIs ##\n",
        "\n",
        "# Crop a smaller region of interest (ROI). This is necessary because: \n",
        "#   1. The full observation will have distortions on the edge as the car deviates from the human\n",
        "#   2. A smaller image of the environment will be easier for our model to learn from\n",
        "region_of_interest = camera.camera_param.get_roi()\n",
        "i1, j1, i2, j2 = region_of_interest\n",
        "cropped_obs = full_obs[i1:i2, j1:j2]\n",
        "cv2_imshow(cropped_obs)"
      ],
      "metadata": {
        "id": "KAH-5uxrbkng"
      },
      "execution_count": null,
      "outputs": []
    },
    {
      "cell_type": "markdown",
      "metadata": {
        "id": "znxypklaJ9Br"
      },
      "source": [
        "We will group these steps into some helper functions that we can use during training: \n",
        "1. `preprocess`: takes a full observation as input and returns a preprocessed version. This can include whatever preprocessing steps you would like! For example, ROI extraction, cropping, augmentations, and so on. You are welcome to add and modify this function as you seek to optimize your self-driving agent!\n",
        "2. `grab_and_preprocess`: grab the car's current observation (i.e., image view from its perspective), and then call the `preprocess` function on that observation."
      ]
    },
    {
      "cell_type": "code",
      "execution_count": null,
      "metadata": {
        "id": "7GQY_UwSJ9Br"
      },
      "outputs": [],
      "source": [
        "## Data preprocessing functions ##\n",
        "\n",
        "def preprocess(full_obs):\n",
        "    # Extract ROI\n",
        "    i1, j1, i2, j2 = camera.camera_param.get_roi()\n",
        "    obs = full_obs[i1:i2, j1:j2]\n",
        "    \n",
        "    # Rescale to [0, 1]\n",
        "    obs = obs / 255.\n",
        "    return obs\n",
        "\n",
        "def grab_and_preprocess_obs(car):\n",
        "    full_obs = car.observations[camera.name]\n",
        "    obs = preprocess(full_obs)\n",
        "    return obs"
      ]
    },
    {
      "cell_type": "markdown",
      "metadata": {
        "id": "WAueY4PfJ9Br"
      },
      "source": [
        "## 3.9 Define the self-driving agent and learning algorithm\n",
        "\n",
        "As before, we'll use a neural network to define our agent and output actions that it will take. Fixing the agent's driving speed, we will train this network to predict a curvature -- a continuous value -- that will relate to the car's turn radius. Specifically, define the model to output a prediction of a continuous distribution of curvature, defined by a mean $\\mu$ and standard deviation $\\sigma$. These parameters will define a Normal distribution over curvature.\n",
        "\n",
        "What network architecture do you think would be especially well suited to the task of end-to-end control learning from RGB images? Since our observations are in the form of RGB images, we'll start with a convolutional network. Note that you will be tasked with completing a template CNN architecture for the self-driving car agent -- but you should certainly experiment beyond this template to try to optimize performance!"
      ]
    },
    {
      "cell_type": "code",
      "execution_count": null,
      "metadata": {
        "id": "f-pAQA7zJ9Br"
      },
      "outputs": [],
      "source": [
        "### Define the self-driving agent ###\n",
        "# Note: we start with a template CNN architecture -- experiment away as you \n",
        "#   try to optimize your agent!\n",
        "\n",
        "# Functionally define layers for convenience\n",
        "# All convolutional layers will have ReLu activation\n",
        "act = tf.keras.activations.swish\n",
        "Conv2D = functools.partial(tf.keras.layers.Conv2D, padding='valid', activation=act)\n",
        "Flatten = tf.keras.layers.Flatten\n",
        "Dense = tf.keras.layers.Dense\n",
        "\n",
        "# Defines a CNN for the self-driving agent\n",
        "def create_driving_model():\n",
        "    model = tf.keras.models.Sequential([\n",
        "        # Convolutional layers\n",
        "        # First, 32 5x5 filters and 2x2 stride\n",
        "        Conv2D(filters=32, kernel_size=5, strides=2),\n",
        "\n",
        "        # TODO: define convolutional layers with 48 5x5 filters and 2x2 stride\n",
        "        # Conv2D('''TODO'''),\n",
        "\n",
        "        # TODO: define two convolutional layers with 64 3x3 filters and 2x2 stride\n",
        "        # Conv2D('''TODO'''),\n",
        "\n",
        "        Flatten(),\n",
        "\n",
        "        # Fully connected layer and output\n",
        "        Dense(units=128, activation=act),\n",
        "        \n",
        "        # TODO: define the output dimension of the last Dense layer. \n",
        "        #    Pay attention to the space the agent needs to act in.\n",
        "        #    Remember that this model is outputing a distribution of *continuous* \n",
        "        #    actions, which take a different shape than discrete actions.\n",
        "        #    How many outputs should there be to define a distribution?'''\n",
        "\n",
        "        # Dense('''TODO''')\n",
        "\n",
        "    ])\n",
        "    return model\n",
        "\n",
        "driving_model = create_driving_model()"
      ]
    },
    {
      "cell_type": "markdown",
      "metadata": {
        "id": "hlyL0HL1J9Bs"
      },
      "source": [
        "Now we will define the learing algorithm which will be used to reinforce good behaviors of the agent and discourage bad behaviours. As with Cartpole, we will use a *policy gradient* method that aims to **maximize** the likelihood of actions that result in large rewards. However, there are some key differences. In Cartpole, the agent's action space was discrete: it could only move left or right. In driving, the agent's action space is continuous: the control network is outputting a curvature, which is a continuous variable. We will define a probability distribution, defined by a mean and variance, over this continuous action space to define the possible actions the self-driving agent can take.\n",
        "\n",
        "You will define three functions that reflect these changes and form the core of the the learning algorithm:\n",
        "1. `run_driving_model`: takes an input image, and outputs a prediction of a continuous distribution of curvature. This will take the form of a Normal distribuion and will be defined using TensorFlow probability's [`tfp.distributions.Normal`](https://www.tensorflow.org/probability/api_docs/python/tfp/distributions/Normal) function, so the model's prediction will include both a mean and variance. Operates on an instance `driving_model` defined above.\n",
        "2. `compute_driving_loss`: computes the loss for a prediction that is in the form of a continuous Normal distribution. Recall as in Cartpole, computing the loss involves multiplying the predicted log probabilities by the discounted rewards. Similar to `compute_loss` in Cartpole.\n",
        "\n",
        "The `train_step` function to use the loss function to execute a training step will be the same as we used in Cartpole! This will have to be executed abov in order for the driving agent to train properly."
      ]
    },
    {
      "cell_type": "code",
      "execution_count": null,
      "metadata": {
        "id": "-UWhFhToJ9Bs"
      },
      "outputs": [],
      "source": [
        "## The self-driving learning algorithm ##\n",
        "\n",
        "# hyperparameters\n",
        "max_curvature = 1/8. \n",
        "max_std = 0.1 \n",
        "\n",
        "def run_driving_model(image):\n",
        "    # Arguments:\n",
        "    #   image: an input image\n",
        "    # Returns:\n",
        "    #   pred_dist: predicted distribution of control actions \n",
        "    single_image_input = tf.rank(image) == 3  # missing 4th batch dimension\n",
        "    if single_image_input:\n",
        "        image = tf.expand_dims(image, axis=0)\n",
        "\n",
        "    '''TODO: get the prediction of the model given the current observation.'''    \n",
        "    # distribution = ''' TODO '''\n",
        "\n",
        "    mu, logsigma = tf.split(distribution, 2, axis=1)\n",
        "    mu = max_curvature * tf.tanh(mu) # conversion\n",
        "    sigma = max_std * tf.sigmoid(logsigma) + 0.005 # conversion\n",
        "    \n",
        "    '''TODO: define the predicted distribution of curvature, given the predicted\n",
        "    mean mu and standard deviation sigma. Use a Normal distribution as defined\n",
        "    in TF probability (hint: tfp.distributions)'''\n",
        "    # pred_dist = ''' TODO '''\n",
        "  \n",
        "    return pred_dist\n",
        "\n",
        "\n",
        "def compute_driving_loss(dist, actions, rewards):\n",
        "    # Arguments:\n",
        "    #   logits: network's predictions for actions to take\n",
        "    #   actions: the actions the agent took in an episode\n",
        "    #   rewards: the rewards the agent received in an episode\n",
        "    # Returns:\n",
        "    #   loss\n",
        "    '''TODO: complete the function call to compute the negative log probabilities\n",
        "    of the agent's actions.'''\n",
        "    # neg_logprob = '''TODO'''\n",
        "\n",
        "    '''TODO: scale the negative log probability by the rewards.'''\n",
        "    # loss = tf.reduce_mean('''TODO''')\n",
        "    return loss\n"
      ]
    },
    {
      "cell_type": "markdown",
      "metadata": {
        "id": "fCCMKLaIJ9Bs"
      },
      "source": [
        "## 3.10 Train the self-driving agent\n",
        "\n",
        "We're now all set up to start training our RL algorithm and agent for autonomous driving!\n",
        "\n",
        "We begin be initializing an opitimizer, environment, a new driving agent, and `Memory` buffer. This will be in the first code block. To restart training completely, you will need to re-run this cell to re-initiailize everything.\n",
        "\n",
        "The second code block is the main training script. Here reinforcement learning episodes will be executed by agents in the VISTA environment. Since the self-driving agent starts out with literally zero knowledge of its environment, it can often take a long time to train and achieve stable behavior -- keep this in mind! For convenience, stopping and restarting the second cell will pick up training where you left off.\n",
        "\n",
        "The training block will execute a policy in the environment until the agent crashes. When the agent crashes, the (state, action, reward) triplet `(s,a,r)` of the agent at the end of the episode will be saved into the `Memory` buffer, and then provided as input to the policy gradient loss function. This information will be used to execute optimization within the training step. Memory will be cleared, and we will then do it all over again!\n",
        "\n",
        "Let's run the code block to train our self-driving agent. We will again visualize the evolution of the total reward as a function of training to get a sense of how the agent is learning. **You should reach a reward of at least 100 to get bare minimum stable behavior.**"
      ]
    },
    {
      "cell_type": "code",
      "source": [
        "## Training parameters and initialization ##\n",
        "## Re-run this cell to restart training from scratch ##\n",
        "\n",
        "''' TODO: Learning rate and optimizer '''\n",
        "# learning_rate = '''TODO'''\n",
        "# optimizer = '''TODO'''\n",
        "\n",
        "# instantiate driving agent\n",
        "vista_reset()\n",
        "driving_model = create_driving_model()\n",
        "# NOTE: the variable driving_model will be used in run_driving_model execution\n",
        "\n",
        "# to track our progress\n",
        "smoothed_reward = mdl.util.LossHistory(smoothing_factor=0.9)\n",
        "plotter = mdl.util.PeriodicPlotter(sec=2, xlabel='Iterations', ylabel='Rewards')\n",
        "\n",
        "# instantiate Memory buffer\n",
        "memory = Memory()"
      ],
      "metadata": {
        "id": "uZGn94sJCtBb"
      },
      "execution_count": null,
      "outputs": []
    },
    {
      "cell_type": "code",
      "execution_count": null,
      "metadata": {
        "scrolled": true,
        "id": "G8GhVvZQJ9Bs"
      },
      "outputs": [],
      "source": [
        "## Driving training! Main training block. ##\n",
        "## Note: stopping and restarting this cell will pick up training where you\n",
        "#        left off. To restart training you need to rerun the cell above as \n",
        "#        well (to re-initialize the model and optimizer)\n",
        "\n",
        "max_batch_size = 300\n",
        "max_reward = float('-inf') # keep track of the maximum reward acheived during training\n",
        "if hasattr(tqdm, '_instances'): tqdm._instances.clear() # clear if it exists\n",
        "for i_episode in range(500):\n",
        "\n",
        "    plotter.plot(smoothed_reward.get())\n",
        "    # Restart the environment\n",
        "    vista_reset()\n",
        "    memory.clear()\n",
        "    observation = grab_and_preprocess_obs(car)\n",
        "\n",
        "    while True:\n",
        "        # TODO: using the car's current observation compute the desired \n",
        "        #  action (curvature) distribution by feeding it into our \n",
        "        #  driving model (use the function you already built to do this!) '''\n",
        "        # curvature_dist = '''TODO'''\n",
        "        \n",
        "        # TODO: sample from the action *distribution* to decide how to step\n",
        "        #   the car in the environment. You may want to check the documentation\n",
        "        #   for tfp.distributions.Normal online. Remember that the sampled action\n",
        "        #   should be a single scalar value after this step.\n",
        "        # curvature_action = '''TODO'''\n",
        "        \n",
        "        # Step the simulated car with the same action\n",
        "        vista_step(curvature_action)\n",
        "        observation = grab_and_preprocess_obs(car)\n",
        "               \n",
        "        # TODO: Compute the reward for this iteration. You define \n",
        "        #   the reward function for this policy, start with something \n",
        "        #   simple - for example, give a reward of 1 if the car did not \n",
        "        #   crash and a reward of 0 if it did crash.\n",
        "        #  reward = '''TODO'''\n",
        "        \n",
        "        # add to memory\n",
        "        memory.add_to_memory(observation, curvature_action, reward)\n",
        "        \n",
        "        # is the episode over? did you crash or do so well that you're done?\n",
        "        if reward == 0.0:\n",
        "            # determine total reward and keep a record of this\n",
        "            total_reward = sum(memory.rewards)\n",
        "            smoothed_reward.append(total_reward)\n",
        "            \n",
        "            # execute training step - remember we don't know anything about how the \n",
        "            #   agent is doing until it has crashed! if the training step is too large \n",
        "            #   we need to sample a mini-batch for this step.\n",
        "            batch_size = min(len(memory), max_batch_size)\n",
        "            i = np.random.choice(len(memory), batch_size, replace=False)\n",
        "            train_step(driving_model, compute_driving_loss, optimizer, \n",
        "                               observations=np.array(memory.observations)[i],\n",
        "                               actions=np.array(memory.actions)[i],\n",
        "                               discounted_rewards = discount_rewards(memory.rewards)[i], \n",
        "                               custom_fwd_fn=run_driving_model)            \n",
        "            # reset the memory\n",
        "            memory.clear()\n",
        "            break"
      ]
    },
    {
      "cell_type": "markdown",
      "metadata": {
        "id": "yevBnJCFJ9Bt"
      },
      "source": [
        "## 3.11 Evaluate the self-driving agent\n",
        "\n",
        "Finally we can put our trained self-driving agent to the test! It will execute autonomous control, in VISTA, based on the learned controller. We will evaluate how well it does based on this distance the car travels without crashing. We await the result..."
      ]
    },
    {
      "cell_type": "code",
      "execution_count": null,
      "metadata": {
        "scrolled": true,
        "id": "DzeswkSnJ9Bt"
      },
      "outputs": [],
      "source": [
        "## Evaluation block!##\n",
        "\n",
        "i_step = 0\n",
        "num_episodes = 5\n",
        "num_reset = 5\n",
        "stream = VideoStream()\n",
        "for i_episode in range(num_episodes):\n",
        "    \n",
        "    # Restart the environment\n",
        "    vista_reset()\n",
        "    observation = grab_and_preprocess_obs(car)\n",
        "    \n",
        "    print(\"rolling out in env\")\n",
        "    episode_step = 0\n",
        "    while not check_crash(car) and episode_step < 100:\n",
        "        # using our observation, choose an action and take it in the environment\n",
        "        curvature_dist = run_driving_model(observation)\n",
        "        curvature = curvature_dist.mean()[0,0]\n",
        "\n",
        "        # Step the simulated car with the same action\n",
        "        vista_step(curvature)\n",
        "        observation = grab_and_preprocess_obs(car)\n",
        "\n",
        "        vis_img = display.render()\n",
        "        stream.write(vis_img[:, :, ::-1], index=i_step)\n",
        "        i_step += 1\n",
        "        episode_step += 1\n",
        "        \n",
        "    for _ in range(num_reset):\n",
        "        stream.write(np.zeros_like(vis_img), index=i_step)\n",
        "        i_step += 1\n",
        "        \n",
        "print(f\"Average reward: {(i_step - (num_reset*num_episodes)) / num_episodes}\")\n",
        "\n",
        "print(\"Saving trajectory with trained policy...\")\n",
        "stream.save(\"trained_policy.mp4\")\n",
        "mdl.lab3.play_video(\"trained_policy.mp4\")"
      ]
    },
    {
      "cell_type": "markdown",
      "source": [
        "Congratulations for making it to this point and for training an autonomous vehicle control policy using deep neural networks and reinforcement learning! Now, with an eye towards the lab competition, think about what you can change -- about the controller model, your data, your learning algorithm... -- to improve performance even further. Below in 3.11 we have some suggestions to get you started. We hope to see your self-driving control policy put to the ***real*** test!"
      ],
      "metadata": {
        "id": "Dq6TZoYvoPyy"
      }
    },
    {
      "cell_type": "markdown",
      "source": [
        "## 3.11 Conclusion and submission information\n",
        "\n",
        "That's it! Congratulations on training two RL agents and putting them to the test! We encourage you to consider the following:\n",
        "\n",
        "* How does each agent perform?\n",
        "* How does the complexity of the self-driving car agent compare to CartPole, and how does it alter the rate at which the agent learns and its performance? \n",
        "* What are some things you could change about the agent or the learning process to potentially improve performance?\n",
        "\n",
        "Try to optimize your **self-driving car** model and algorithm to achieve improved performance.  **MIT students and affiliates will be eligible for prizes during the IAP offering. The prize for this lab includes an opportunity to test your model and algorithm onboard a full-scale autonomous vehicle in the real world.**\n",
        "\n",
        "To get you started, here are some suggested ways to improve your self-driving car model and/or RL algorithm:\n",
        "\n",
        "* different model architectures, for example recurrent models or Transformers with self-attention;\n",
        "* data augmentation and improved pre-processing;\n",
        "* different data modalities from different sensor types. VISTA also supports [LiDAR](https://driving.ca/car-culture/auto-tech/what-is-lidar-and-how-is-it-used-in-cars) and [event-based camera](https://arxiv.org/pdf/1804.01310.pdf) data, with a [new VISTA paper](https://arxiv.org/pdf/2111.12083.pdf) describing this. If you are interested in this, please contact Alexander Amini (amini@mit.edu)!\n",
        "* improved reinforcement learning algorithms, such as [PPO](https://paperswithcode.com/paper/proximal-policy-optimization-algorithms), [TRPO](https://paperswithcode.com/method/trpo), or [A3C](https://paperswithcode.com/method/a3c);\n",
        "* different reward functions for reinforcemnt learning, for example penalizing the car's distance to the lane center rather than just whether or not it crashed;\n",
        "* [Guided Policy Learning (GPL)](https://rll.berkeley.edu/gps/). Not reinforcement learning, but a powerful algorithm to leverage human data to provide additional supervision the learning task.\n",
        "\n",
        "To enter the competition, MIT students and affiliates should upload the following to the course Canvas:\n",
        "\n",
        "* Jupyter notebook with the code you used to generate your results, **with the self-driving car agent training fully executed**;\n",
        "* **saved video of your self-driving agent executing a trajectory in VISTA**;\n",
        "* printout / recording of the **maximum distance traveled by your agent** before crashing;\n",
        "* **text description and/or visual diagram** of the architecture, settings, algorithm, hyperparameters, etc you used to generate your result -- if there are any additional or interesting modifications you made to the template code, please include these in your description;\n",
        "* finally, **separate `.py` script** containing the code for your model, as well as **a function call to load your model and the final trained weights**. This will mean you will have to access and load the weights of your trained model in this script;\n",
        "\n",
        "We will evaluate your entries based on the above components, as well as potential real-time evaluation of top candidates in new VISTA environments with snow / winter traces. The link for these traces is [here](https://www.dropbox.com/s/3wxyvjfquloonqc/vista_traces_snow.zip). You are welcome to download this data and evaluate your models on it as well.\n",
        "\n",
        "Good luck!\n",
        "\n",
        "<p align=\"center\">\n",
        "<img src=\"https://media.giphy.com/media/H7rpSYHRyYgamxQNqw/giphy-downsized-large.gif\" width=\"700\"/>\n",
        "</p>"
      ],
      "metadata": {
        "id": "6c6uO21GoRfw"
      }
    },
    {
      "cell_type": "code",
      "source": [
        ""
      ],
      "metadata": {
        "id": "ac8FNK-x8gNn"
      },
      "execution_count": null,
      "outputs": []
    }
  ],
  "metadata": {
    "accelerator": "GPU",
    "colab": {
      "collapsed_sections": [
        "WoXYKhfZMHiw",
        "Eu6Mqxc720ST"
      ],
      "name": "MIT LAB Reinforcement Learning.ipynb",
      "provenance": []
    },
    "kernelspec": {
      "display_name": "Python 3",
      "language": "python",
      "name": "python3"
    },
    "language_info": {
      "codemirror_mode": {
        "name": "ipython",
        "version": 3
      },
      "file_extension": ".py",
      "mimetype": "text/x-python",
      "name": "python",
      "nbconvert_exporter": "python",
      "pygments_lexer": "ipython3",
      "version": "3.9.7"
    }
  },
  "nbformat": 4,
  "nbformat_minor": 0
}